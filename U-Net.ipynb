{
 "cells": [
  {
   "cell_type": "code",
   "execution_count": 29,
   "id": "7241d617",
   "metadata": {},
   "outputs": [],
   "source": [
    "import numpy as np\n",
    "import matplotlib.pyplot as plt\n",
    "import keras\n",
    "from keras.layers import Input,Flatten,Concatenate,Lambda\n",
    "from keras.layers import Conv2D,Conv2DTranspose,MaxPooling2D\n",
    "from keras.layers import Dropout,Dense\n",
    "from keras.models import Model\n",
    "import os\n",
    "from tqdm import tqdm\n",
    "from skimage.io import imread, imshow\n",
    "from skimage.transform import resize"
   ]
  },
  {
   "cell_type": "code",
   "execution_count": 3,
   "id": "c0820779",
   "metadata": {},
   "outputs": [],
   "source": [
    "img_width=128\n",
    "img_height=128\n",
    "img_channels=3"
   ]
  },
  {
   "cell_type": "code",
   "execution_count": 19,
   "id": "e37a5fa8",
   "metadata": {},
   "outputs": [],
   "source": [
    "train_path='C:/Users/nikhi/Downloads/stage1_train/'\n",
    "test_path='C:/Users/nikhi/Downloads/stage1_test/'"
   ]
  },
  {
   "cell_type": "code",
   "execution_count": 24,
   "id": "25ed2abb",
   "metadata": {},
   "outputs": [],
   "source": [
    "train_ids=next(os.walk(train_path))[1]\n",
    "test_ids=next(os.walk(test_path))[1]"
   ]
  },
  {
   "cell_type": "code",
   "execution_count": 26,
   "id": "3aecbf50",
   "metadata": {},
   "outputs": [],
   "source": [
    "X_train=np.zeros((len(train_ids),img_height,img_width,img_channels),dtype=np.uint8)\n",
    "y_train=np.zeros((len(train_ids),img_height,img_width,1),dtype=np.bool_)"
   ]
  },
  {
   "cell_type": "code",
   "execution_count": 35,
   "id": "4ae053ab",
   "metadata": {},
   "outputs": [
    {
     "name": "stderr",
     "output_type": "stream",
     "text": [
      "100%|████████████████████████████████████████████████████████████████████████████████| 670/670 [06:09<00:00,  1.81it/s]\n"
     ]
    }
   ],
   "source": [
    "for n,id_ in tqdm(enumerate(train_ids),total=len(train_ids)):\n",
    "    path=train_path+id_\n",
    "    img=imread(path+'/images/'+id_+'.png')[:,:,:img_channels]\n",
    "    img=resize(img,(img_height,img_width),mode='constant',preserve_range=True)\n",
    "    X_train[n]=img\n",
    "    \n",
    "    mask=np.zeros((img_height,img_width,1),dtype=np.bool_)\n",
    "    \n",
    "    for mask_file in next(os.walk(path+'/masks/'))[2]:\n",
    "        mask_=imread(path+'/masks/'+mask_file)\n",
    "        mask_ = np.expand_dims(resize(mask_, (img_height, img_width), mode='constant',preserve_range=True), axis=-1)\n",
    "        mask=np.maximum(mask,mask_)\n",
    "        \n",
    "    y_train[n]=mask"
   ]
  },
  {
   "cell_type": "code",
   "execution_count": 39,
   "id": "8d0b91f6",
   "metadata": {},
   "outputs": [
    {
     "data": {
      "image/png": "[encoded data removed]",
      "text/plain": [
       "<Figure size 432x288 with 1 Axes>"
      ]
     },
     "metadata": {
      "needs_background": "light"
     },
     "output_type": "display_data"
    },
    {
     "data": {
      "image/png": "[encoded data removed]",
      "text/plain": [
       "<Figure size 432x288 with 1 Axes>"
      ]
     },
     "metadata": {
      "needs_background": "light"
     },
     "output_type": "display_data"
    }
   ],
   "source": [
    "image_x=np.random.randint(0,len(train_ids))\n",
    "imshow(X_train[image_x])\n",
    "plt.show()\n",
    "\n",
    "imshow(np.squeeze(y_train[image_x]))\n",
    "plt.show()"
   ]
  },
  {
   "cell_type": "code",
   "execution_count": 40,
   "id": "287c44e9",
   "metadata": {},
   "outputs": [
    {
     "name": "stderr",
     "output_type": "stream",
     "text": [
      "100%|██████████████████████████████████████████████████████████████████████████████████| 65/65 [00:01<00:00, 49.13it/s]\n"
     ]
    }
   ],
   "source": [
    "X_test=np.zeros((len(test_ids),img_height,img_width,img_channels),dtype=np.uint8)\n",
    "\n",
    "for n,id_ in tqdm(enumerate(test_ids),total=len(test_ids)):\n",
    "    path=test_path+id_\n",
    "    img=imread(path+'/images/'+id_+'.png')[:,:,:img_channels]\n",
    "    img=resize(img,(img_height,img_width),mode='constant',preserve_range=True)\n",
    "    X_test[n]=img"
   ]
  },
  {
   "cell_type": "code",
   "execution_count": 15,
   "id": "abb2e0a2",
   "metadata": {},
   "outputs": [],
   "source": [
    "inputs=Input((img_height,img_width,img_channels))\n",
    "s=Lambda(lambda x:x/255)(inputs)\n",
    "\n",
    "# Contraction path\n",
    "\n",
    "c1 = Conv2D(16, (3, 3), activation='relu', kernel_initializer='he_normal', padding='same')(s)\n",
    "c1 = Dropout(0.1)(c1)\n",
    "c1 = Conv2D(16, (3, 3), activation='relu', kernel_initializer='he_normal', padding='same')(c1)\n",
    "p1 = MaxPooling2D((2, 2))(c1)\n",
    "\n",
    "c2 = Conv2D(32, (3, 3), activation='relu', kernel_initializer='he_normal', padding='same')(p1)\n",
    "c2 = Dropout(0.1)(c2)\n",
    "c2 = Conv2D(32, (3, 3), activation='relu', kernel_initializer='he_normal', padding='same')(c2)\n",
    "p2 = MaxPooling2D((2, 2))(c2)\n",
    "\n",
    "c3 = Conv2D(64, (3, 3), activation='relu', kernel_initializer='he_normal', padding='same')(p2)\n",
    "c3 = Dropout(0.2)(c3)\n",
    "c3 = Conv2D(64, (3, 3), activation='relu', kernel_initializer='he_normal', padding='same')(c3)\n",
    "p3 = MaxPooling2D((2, 2))(c3)\n",
    "\n",
    "c4 = Conv2D(128, (3, 3), activation='relu', kernel_initializer='he_normal', padding='same')(p3)\n",
    "c4 = Dropout(0.2)(c4)\n",
    "c4 = Conv2D(128, (3, 3), activation='relu', kernel_initializer='he_normal', padding='same')(c4)\n",
    "p4 =MaxPooling2D(pool_size=(2, 2))(c4)\n",
    "\n",
    "c5 = Conv2D(256, (3, 3), activation='relu', kernel_initializer='he_normal', padding='same')(p4)\n",
    "c5 = Dropout(0.3)(c5)\n",
    "c5 =Conv2D(256, (3, 3), activation='relu', kernel_initializer='he_normal', padding='same')(c5)\n",
    "\n",
    "# Expansive Path\n",
    "\n",
    "u6 = Conv2DTranspose(128, (2, 2), strides=(2, 2), padding='same')(c5)\n",
    "u6 = Concatenate()([u6, c4])\n",
    "c6 = Conv2D(128, (3, 3), activation='relu', kernel_initializer='he_normal', padding='same')(u6)\n",
    "c6 = Dropout(0.2)(c6)\n",
    "c6 = Conv2D(128, (3, 3), activation='relu', kernel_initializer='he_normal', padding='same')(c6)\n",
    " \n",
    "u7 = Conv2DTranspose(64, (2, 2), strides=(2, 2), padding='same')(c6)\n",
    "u7 = Concatenate()([u7, c3])\n",
    "c7 = Conv2D(64, (3, 3), activation='relu', kernel_initializer='he_normal', padding='same')(u7)\n",
    "c7 = Dropout(0.2)(c7)\n",
    "c7 = Conv2D(64, (3, 3), activation='relu', kernel_initializer='he_normal', padding='same')(c7)\n",
    " \n",
    "u8 = Conv2DTranspose(32, (2, 2), strides=(2, 2), padding='same')(c7)\n",
    "u8 = Concatenate()([u8, c2])\n",
    "c8 = Conv2D(32, (3, 3), activation='relu', kernel_initializer='he_normal', padding='same')(u8)\n",
    "c8 = Dropout(0.1)(c8)\n",
    "c8 = Conv2D(32, (3, 3), activation='relu', kernel_initializer='he_normal', padding='same')(c8)\n",
    " \n",
    "u9 = Conv2DTranspose(16, (2, 2), strides=(2, 2), padding='same')(c8)\n",
    "u9 =Concatenate(axis=3)([u9, c1])\n",
    "c9 = Conv2D(16, (3, 3), activation='relu', kernel_initializer='he_normal', padding='same')(u9)\n",
    "c9 = Dropout(0.1)(c9)\n",
    "c9 = Conv2D(16, (3, 3), activation='relu', kernel_initializer='he_normal', padding='same')(c9)\n",
    "\n",
    "outputs = Conv2D(1, (1, 1), activation='sigmoid')(c9)"
   ]
  },
  {
   "cell_type": "code",
   "execution_count": 17,
   "id": "be1299ff",
   "metadata": {},
   "outputs": [
    {
     "name": "stdout",
     "output_type": "stream",
     "text": [
      "Model: \"model\"\n",
      "__________________________________________________________________________________________________\n",
      " Layer (type)                   Output Shape         Param #     Connected to                     \n",
      "==================================================================================================\n",
      " input_11 (InputLayer)          [(None, 128, 128, 3  0           []                               \n",
      "                                )]                                                                \n",
      "                                                                                                  \n",
      " lambda_7 (Lambda)              (None, 128, 128, 3)  0           ['input_11[0][0]']               \n",
      "                                                                                                  \n",
      " conv2d_50 (Conv2D)             (None, 128, 128, 16  448         ['lambda_7[0][0]']               \n",
      "                                )                                                                 \n",
      "                                                                                                  \n",
      " dropout_24 (Dropout)           (None, 128, 128, 16  0           ['conv2d_50[0][0]']              \n",
      "                                )                                                                 \n",
      "                                                                                                  \n",
      " conv2d_51 (Conv2D)             (None, 128, 128, 16  2320        ['dropout_24[0][0]']             \n",
      "                                )                                                                 \n",
      "                                                                                                  \n",
      " max_pooling2d_17 (MaxPooling2D  (None, 64, 64, 16)  0           ['conv2d_51[0][0]']              \n",
      " )                                                                                                \n",
      "                                                                                                  \n",
      " conv2d_52 (Conv2D)             (None, 64, 64, 32)   4640        ['max_pooling2d_17[0][0]']       \n",
      "                                                                                                  \n",
      " dropout_25 (Dropout)           (None, 64, 64, 32)   0           ['conv2d_52[0][0]']              \n",
      "                                                                                                  \n",
      " conv2d_53 (Conv2D)             (None, 64, 64, 32)   9248        ['dropout_25[0][0]']             \n",
      "                                                                                                  \n",
      " max_pooling2d_18 (MaxPooling2D  (None, 32, 32, 32)  0           ['conv2d_53[0][0]']              \n",
      " )                                                                                                \n",
      "                                                                                                  \n",
      " conv2d_54 (Conv2D)             (None, 32, 32, 64)   18496       ['max_pooling2d_18[0][0]']       \n",
      "                                                                                                  \n",
      " dropout_26 (Dropout)           (None, 32, 32, 64)   0           ['conv2d_54[0][0]']              \n",
      "                                                                                                  \n",
      " conv2d_55 (Conv2D)             (None, 32, 32, 64)   36928       ['dropout_26[0][0]']             \n",
      "                                                                                                  \n",
      " max_pooling2d_19 (MaxPooling2D  (None, 16, 16, 64)  0           ['conv2d_55[0][0]']              \n",
      " )                                                                                                \n",
      "                                                                                                  \n",
      " conv2d_56 (Conv2D)             (None, 16, 16, 128)  73856       ['max_pooling2d_19[0][0]']       \n",
      "                                                                                                  \n",
      " dropout_27 (Dropout)           (None, 16, 16, 128)  0           ['conv2d_56[0][0]']              \n",
      "                                                                                                  \n",
      " conv2d_57 (Conv2D)             (None, 16, 16, 128)  147584      ['dropout_27[0][0]']             \n",
      "                                                                                                  \n",
      " max_pooling2d_20 (MaxPooling2D  (None, 8, 8, 128)   0           ['conv2d_57[0][0]']              \n",
      " )                                                                                                \n",
      "                                                                                                  \n",
      " conv2d_58 (Conv2D)             (None, 8, 8, 256)    295168      ['max_pooling2d_20[0][0]']       \n",
      "                                                                                                  \n",
      " dropout_28 (Dropout)           (None, 8, 8, 256)    0           ['conv2d_58[0][0]']              \n",
      "                                                                                                  \n",
      " conv2d_59 (Conv2D)             (None, 8, 8, 256)    590080      ['dropout_28[0][0]']             \n",
      "                                                                                                  \n",
      " conv2d_transpose_7 (Conv2DTran  (None, 16, 16, 128)  131200     ['conv2d_59[0][0]']              \n",
      " spose)                                                                                           \n",
      "                                                                                                  \n",
      " concatenate_6 (Concatenate)    (None, 16, 16, 256)  0           ['conv2d_transpose_7[0][0]',     \n",
      "                                                                  'conv2d_57[0][0]']              \n",
      "                                                                                                  \n",
      " conv2d_60 (Conv2D)             (None, 16, 16, 128)  295040      ['concatenate_6[0][0]']          \n",
      "                                                                                                  \n",
      " dropout_29 (Dropout)           (None, 16, 16, 128)  0           ['conv2d_60[0][0]']              \n",
      "                                                                                                  \n",
      " conv2d_61 (Conv2D)             (None, 16, 16, 128)  147584      ['dropout_29[0][0]']             \n",
      "                                                                                                  \n",
      " conv2d_transpose_8 (Conv2DTran  (None, 32, 32, 64)  32832       ['conv2d_61[0][0]']              \n",
      " spose)                                                                                           \n",
      "                                                                                                  \n",
      " concatenate_7 (Concatenate)    (None, 32, 32, 128)  0           ['conv2d_transpose_8[0][0]',     \n",
      "                                                                  'conv2d_55[0][0]']              \n",
      "                                                                                                  \n",
      " conv2d_62 (Conv2D)             (None, 32, 32, 64)   73792       ['concatenate_7[0][0]']          \n",
      "                                                                                                  \n",
      " dropout_30 (Dropout)           (None, 32, 32, 64)   0           ['conv2d_62[0][0]']              \n",
      "                                                                                                  \n",
      " conv2d_63 (Conv2D)             (None, 32, 32, 64)   36928       ['dropout_30[0][0]']             \n",
      "                                                                                                  \n",
      " conv2d_transpose_9 (Conv2DTran  (None, 64, 64, 32)  8224        ['conv2d_63[0][0]']              \n",
      " spose)                                                                                           \n",
      "                                                                                                  \n",
      " concatenate_8 (Concatenate)    (None, 64, 64, 64)   0           ['conv2d_transpose_9[0][0]',     \n",
      "                                                                  'conv2d_53[0][0]']              \n",
      "                                                                                                  \n",
      " conv2d_64 (Conv2D)             (None, 64, 64, 32)   18464       ['concatenate_8[0][0]']          \n",
      "                                                                                                  \n",
      " dropout_31 (Dropout)           (None, 64, 64, 32)   0           ['conv2d_64[0][0]']              \n",
      "                                                                                                  \n",
      " conv2d_65 (Conv2D)             (None, 64, 64, 32)   9248        ['dropout_31[0][0]']             \n",
      "                                                                                                  \n",
      " conv2d_transpose_10 (Conv2DTra  (None, 128, 128, 16  2064       ['conv2d_65[0][0]']              \n",
      " nspose)                        )                                                                 \n",
      "                                                                                                  \n",
      " concatenate_9 (Concatenate)    (None, 128, 128, 32  0           ['conv2d_transpose_10[0][0]',    \n",
      "                                )                                 'conv2d_51[0][0]']              \n",
      "                                                                                                  \n",
      " conv2d_66 (Conv2D)             (None, 128, 128, 16  4624        ['concatenate_9[0][0]']          \n",
      "                                )                                                                 \n",
      "                                                                                                  \n",
      " dropout_32 (Dropout)           (None, 128, 128, 16  0           ['conv2d_66[0][0]']              \n",
      "                                )                                                                 \n",
      "                                                                                                  \n",
      " conv2d_67 (Conv2D)             (None, 128, 128, 16  2320        ['dropout_32[0][0]']             \n",
      "                                )                                                                 \n",
      "                                                                                                  \n",
      " conv2d_68 (Conv2D)             (None, 128, 128, 1)  17          ['conv2d_67[0][0]']              \n",
      "                                                                                                  \n",
      "==================================================================================================\n",
      "Total params: 1,941,105\n",
      "Trainable params: 1,941,105\n",
      "Non-trainable params: 0\n",
      "__________________________________________________________________________________________________\n"
     ]
    }
   ],
   "source": [
    "model = Model(inputs=[inputs], outputs=[outputs])\n",
    "model.compile(optimizer='adam', loss='binary_crossentropy', metrics=['accuracy'])\n",
    "model.summary()"
   ]
  },
  {
   "cell_type": "code",
   "execution_count": 47,
   "id": "3d8009e5",
   "metadata": {},
   "outputs": [
    {
     "name": "stdout",
     "output_type": "stream",
     "text": [
      "Epoch 1/3\n",
      "38/38 [==============================] - 27s 694ms/step - loss: 0.5264 - accuracy: 0.7508 - val_loss: 0.2635 - val_accuracy: 0.8600\n",
      "Epoch 2/3\n",
      "38/38 [==============================] - 32s 854ms/step - loss: 0.2709 - accuracy: 0.8796 - val_loss: 0.1955 - val_accuracy: 0.9240\n",
      "Epoch 3/3\n",
      "38/38 [==============================] - 35s 925ms/step - loss: 0.1782 - accuracy: 0.9332 - val_loss: 0.1415 - val_accuracy: 0.9460\n"
     ]
    }
   ],
   "source": [
    "checkpointer=keras.callbacks.ModelCheckpoint('model_for_nuclei.h5',verbose=1,save_best_only=True)\n",
    "\n",
    "callbacks=[keras.callbacks.EarlyStopping(patience=2,monitor='val_loss'),\n",
    "          keras.callbacks.TensorBoard(log_dir='logs')]\n",
    "\n",
    "results=model.fit(X_train,y_train,validation_split=0.1,batch_size=16,epochs=3,callbacks=callbacks)"
   ]
  },
  {
   "cell_type": "code",
   "execution_count": 52,
   "id": "a545946c",
   "metadata": {},
   "outputs": [
    {
     "name": "stdout",
     "output_type": "stream",
     "text": [
      "3/3 [==============================] - 1s 115ms/step\n"
     ]
    }
   ],
   "source": [
    "pred=model.predict(X_test,verbose=1)"
   ]
  },
  {
   "cell_type": "code",
   "execution_count": 56,
   "id": "b2c3bef0",
   "metadata": {},
   "outputs": [],
   "source": [
    "predicted=(pred>0.5).astype('uint8')"
   ]
  },
  {
   "cell_type": "code",
   "execution_count": 63,
   "id": "5cb286cf",
   "metadata": {},
   "outputs": [
    {
     "data": {
      "text/plain": [
       "<matplotlib.image.AxesImage at 0x2578f2e7070>"
      ]
     },
     "execution_count": 63,
     "metadata": {},
     "output_type": "execute_result"
    },
    {
     "data": {
      "image/png": "[encoded data removed]",
      "text/plain": [
       "<Figure size 432x288 with 1 Axes>"
      ]
     },
     "metadata": {
      "needs_background": "light"
     },
     "output_type": "display_data"
    }
   ],
   "source": [
    "imshow(X_test[0])"
   ]
  },
  {
   "cell_type": "code",
   "execution_count": 62,
   "id": "ad6555ae",
   "metadata": {},
   "outputs": [
    {
     "data": {
      "text/plain": [
       "<matplotlib.image.AxesImage at 0x2578f22e3a0>"
      ]
     },
     "execution_count": 62,
     "metadata": {},
     "output_type": "execute_result"
    },
    {
     "data": {
      "image/png": "[encoded data removed]",
      "text/plain": [
       "<Figure size 432x288 with 2 Axes>"
      ]
     },
     "metadata": {
      "needs_background": "light"
     },
     "output_type": "display_data"
    }
   ],
   "source": [
    "imshow(predicted[0])"
   ]
  }
 ],
 "metadata": {
  "kernelspec": {
   "display_name": "Python 3 (ipykernel)",
   "language": "python",
   "name": "python3"
  },
  "language_info": {
   "codemirror_mode": {
    "name": "ipython",
    "version": 3
   },
   "file_extension": ".py",
   "mimetype": "text/x-python",
   "name": "python",
   "nbconvert_exporter": "python",
   "pygments_lexer": "ipython3",
   "version": "3.9.12"
  }
 },
 "nbformat": 4,
 "nbformat_minor": 5
}
